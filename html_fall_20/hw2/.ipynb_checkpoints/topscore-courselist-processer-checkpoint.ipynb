{
 "cells": [
  {
   "cell_type": "markdown",
   "metadata": {},
   "source": [
    "# Convert course table to JavaScript objects\n",
    "<hr/>\n",
    "\n",
    "**Current Problem**: Timestamp cannot be processed. Trick for now: make time all zero."
   ]
  },
  {
   "cell_type": "code",
   "execution_count": 138,
   "metadata": {},
   "outputs": [],
   "source": [
    "import pandas as pd\n",
    "import numpy as np\n",
    "import json\n",
    "import moment\n",
    "import random"
   ]
  },
  {
   "cell_type": "code",
   "execution_count": 139,
   "metadata": {
    "scrolled": true
   },
   "outputs": [
    {
     "data": {
      "text/html": [
       "<div>\n",
       "<style scoped>\n",
       "    .dataframe tbody tr th:only-of-type {\n",
       "        vertical-align: middle;\n",
       "    }\n",
       "\n",
       "    .dataframe tbody tr th {\n",
       "        vertical-align: top;\n",
       "    }\n",
       "\n",
       "    .dataframe thead th {\n",
       "        text-align: right;\n",
       "    }\n",
       "</style>\n",
       "<table border=\"1\" class=\"dataframe\">\n",
       "  <thead>\n",
       "    <tr style=\"text-align: right;\">\n",
       "      <th></th>\n",
       "      <th>type*</th>\n",
       "      <th>courseName* (Keep it short)</th>\n",
       "      <th>instructor*</th>\n",
       "      <th>startDate (MM-DD-YYYY)*</th>\n",
       "      <th>repeatBy</th>\n",
       "      <th>repeatTimes (Write 0 if no repeat)</th>\n",
       "    </tr>\n",
       "  </thead>\n",
       "  <tbody>\n",
       "    <tr>\n",
       "      <th>0</th>\n",
       "      <td>ENGAGEMENT</td>\n",
       "      <td>CS Mentorship</td>\n",
       "      <td>Kevin Li</td>\n",
       "      <td>10-30-2020</td>\n",
       "      <td>NaN</td>\n",
       "      <td>0</td>\n",
       "    </tr>\n",
       "    <tr>\n",
       "      <th>1</th>\n",
       "      <td>GROUP</td>\n",
       "      <td>Common App Essay Workshop</td>\n",
       "      <td>Kate</td>\n",
       "      <td>10-30-2019</td>\n",
       "      <td>weeks</td>\n",
       "      <td>12</td>\n",
       "    </tr>\n",
       "    <tr>\n",
       "      <th>2</th>\n",
       "      <td>GROUP</td>\n",
       "      <td>College App Guidelines</td>\n",
       "      <td>Johnny Hope</td>\n",
       "      <td>6-1-2020</td>\n",
       "      <td>days</td>\n",
       "      <td>5</td>\n",
       "    </tr>\n",
       "  </tbody>\n",
       "</table>\n",
       "</div>"
      ],
      "text/plain": [
       "        type* courseName* (Keep it short)  instructor*  \\\n",
       "0  ENGAGEMENT               CS Mentorship     Kevin Li   \n",
       "1       GROUP   Common App Essay Workshop         Kate   \n",
       "2       GROUP      College App Guidelines  Johnny Hope   \n",
       "\n",
       "  startDate (MM-DD-YYYY)* repeatBy  repeatTimes (Write 0 if no repeat)  \n",
       "0              10-30-2020      NaN                                   0  \n",
       "1              10-30-2019    weeks                                  12  \n",
       "2                6-1-2020     days                                   5  "
      ]
     },
     "execution_count": 139,
     "metadata": {},
     "output_type": "execute_result"
    }
   ],
   "source": [
    "pd.read_csv('topscore-courselist.csv')"
   ]
  },
  {
   "cell_type": "code",
   "execution_count": 140,
   "metadata": {},
   "outputs": [],
   "source": [
    "# Process the course list\n",
    "\n",
    "with open('topscore-courselist.csv', 'r') as df:\n",
    "    display = [line for line in df]\n",
    "        \n",
    "display = display[1:]"
   ]
  },
  {
   "cell_type": "code",
   "execution_count": 161,
   "metadata": {},
   "outputs": [
    {
     "name": "stdout",
     "output_type": "stream",
     "text": [
      "['ENGAGEMENT', 'CS Mentorship', 'Kevin Li', '10-30-2020', '', '0']\n",
      "['GROUP', 'Common App Essay Workshop', 'Kate', '10-30-2019', 'weeks', '12']\n",
      "['GROUP', 'College App Guidelines', 'Johnny Hope', '6-1-2020', 'days', '5']\n"
     ]
    },
    {
     "data": {
      "text/plain": [
       "{'MAN4347956387': {'type': 'ENGAGEMENT',\n",
       "  'courseName': 'CS Mentorship',\n",
       "  'instructor': 'Kevin Li',\n",
       "  'startDate': '1604016000',\n",
       "  'repeatBy': '',\n",
       "  'repeatTimes': '0'},\n",
       " 'MAN5992662829': {'type': 'GROUP',\n",
       "  'courseName': 'Common App Essay Workshop',\n",
       "  'instructor': 'Kate',\n",
       "  'startDate': '1572393600',\n",
       "  'repeatBy': 'weeks',\n",
       "  'repeatTimes': '12'},\n",
       " 'MAN1397416196': {'type': 'GROUP',\n",
       "  'courseName': 'College App Guidelines',\n",
       "  'instructor': 'Johnny Hope',\n",
       "  'startDate': '1590969600',\n",
       "  'repeatBy': 'days',\n",
       "  'repeatTimes': '5'}}"
      ]
     },
     "execution_count": 161,
     "metadata": {},
     "output_type": "execute_result"
    }
   ],
   "source": [
    "def createJSON(entry):\n",
    "    entry = [e.rstrip('\\n') for e in entry.split(\",\")]\n",
    "    timestamp = str(moment.date(entry[3], \"MM-DD-YYYY\").epoch())\n",
    "    print(entry)\n",
    "    return {\n",
    "        \"type\": entry[0], \"courseName\": entry[1], \"instructor\": entry[2] , \n",
    "        \"startDate\": timestamp, \"repeatBy\": entry[4], \"repeatTimes\": entry[5]\n",
    "    }\n",
    "\n",
    "\n",
    "json_dataset = {'MAN' + str(random.randint(1000000000, 9999999999)): createJSON(entry) for entry in display}\n",
    "json_dataset"
   ]
  },
  {
   "cell_type": "code",
   "execution_count": 162,
   "metadata": {},
   "outputs": [
    {
     "name": "stdout",
     "output_type": "stream",
     "text": [
      "The JSON dataset has 3 entries\n"
     ]
    }
   ],
   "source": [
    "print(\"The JSON dataset has\", len(json_dataset), \"entries\")"
   ]
  },
  {
   "cell_type": "code",
   "execution_count": 164,
   "metadata": {},
   "outputs": [],
   "source": [
    "exportJSON = open(\"courseList.json\", \"w\");\n",
    "exportJSON.write(json.dumps(json_dataset))\n",
    "exportJSON.close()"
   ]
  },
  {
   "cell_type": "markdown",
   "metadata": {},
   "source": [
    "## Testing"
   ]
  },
  {
   "cell_type": "code",
   "execution_count": 160,
   "metadata": {},
   "outputs": [
    {
     "name": "stdout",
     "output_type": "stream",
     "text": [
      "2012-12-18T00:00:00+08.00\n",
      "1590969600\n"
     ]
    }
   ],
   "source": [
    "momentObj = moment.date(\"12-18-2012\", \"MM-DD-YYYY\")\n",
    "momentObj2 = moment.date(\"6-1-2020\", \"MM-DD-YYYY\").epoch()\n",
    "print(momentObj)\n",
    "print(momentObj2)"
   ]
  },
  {
   "cell_type": "code",
   "execution_count": 168,
   "metadata": {},
   "outputs": [
    {
     "data": {
      "text/plain": [
       "0"
      ]
     },
     "execution_count": 168,
     "metadata": {},
     "output_type": "execute_result"
    }
   ],
   "source": []
  },
  {
   "cell_type": "code",
   "execution_count": null,
   "metadata": {},
   "outputs": [],
   "source": []
  }
 ],
 "metadata": {
  "kernelspec": {
   "display_name": "Python 3",
   "language": "python",
   "name": "python3"
  },
  "language_info": {
   "codemirror_mode": {
    "name": "ipython",
    "version": 3
   },
   "file_extension": ".py",
   "mimetype": "text/x-python",
   "name": "python",
   "nbconvert_exporter": "python",
   "pygments_lexer": "ipython3",
   "version": "3.6.9"
  }
 },
 "nbformat": 4,
 "nbformat_minor": 2
}
