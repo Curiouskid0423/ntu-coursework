{
 "cells": [
  {
   "cell_type": "markdown",
   "metadata": {},
   "source": [
    "## Homework 1: Solution for Question 16 and above\n",
    "\n",
    "### Perceptron Learning Algorithm Experiment\n",
    "Yu-Teng Li, Fall 2020 Machine Learning Foundation"
   ]
  },
  {
   "cell_type": "code",
   "execution_count": 1,
   "metadata": {},
   "outputs": [],
   "source": [
    "import numpy as np\n",
    "import pandas as pd\n",
    "import random\n",
    "import matplotlib.pyplot as plt\n",
    "plt.style.use('ggplot') # For styling purpose"
   ]
  },
  {
   "cell_type": "code",
   "execution_count": 2,
   "metadata": {},
   "outputs": [
    {
     "name": "stdout",
     "output_type": "stream",
     "text": [
      "Dataframe (df) has 10 + 1 (for threshold) features, 1 label at each row: (100, 12)\n"
     ]
    }
   ],
   "source": [
    "# Read data in, append 1.0 at the beginning of the weight vector to factor in threshold value.\n",
    "with open('hw1_data.dat', 'r') as frame:\n",
    "    df = []\n",
    "    for line in frame:\n",
    "        df.append([1.0] + [float(x) for x in line.split()])\n",
    "df = np.array(df)\n",
    "\n",
    "print(\"Dataframe (df) has 10 + 1 (for threshold) features, 1 label at each row:\", df.shape)"
   ]
  },
  {
   "cell_type": "code",
   "execution_count": 3,
   "metadata": {},
   "outputs": [],
   "source": [
    "# PLA driver function. Takes in a random seed, threshold, and the scale of features\n",
    "def perceptron(seed = 0, data = None, threshold = None):\n",
    "    random.seed(seed)\n",
    "    w = np.zeros(11)\n",
    "    safe_count, update_times = 0, 0\n",
    "    while True:\n",
    "        if safe_count == 500:  break\n",
    "        index = np.random.randint(0, 99)\n",
    "        target = np.append([threshold], data[index][1:]) if (threshold != None) else data[index]\n",
    "        inner_product = np.dot(w, target[:-1])\n",
    "        sign = np.sign(inner_product) if inner_product != 0 else -1\n",
    "        if sign != target[11]:\n",
    "            w += np.multiply(target[:-1], target[11]) \n",
    "            update_times += 1\n",
    "        else: \n",
    "            safe_count += 1\n",
    "    return update_times, w"
   ]
  },
  {
   "cell_type": "code",
   "execution_count": 4,
   "metadata": {},
   "outputs": [],
   "source": [
    "# \"Iterator\" function for PLA.\n",
    "print_factor = 100\n",
    "def pla_driver(iteration = 1000, threshold = None, scale = None, data=df):\n",
    "    updates, vector_w0 = [], []\n",
    "    print_counter = 0\n",
    "    if scale != None:\n",
    "        for data_row in data:\n",
    "            data_row = np.multiply(data_row[:-1], scale) + data_row[11]\n",
    "    for i in range(iteration):\n",
    "        update_times, weight = perceptron(seed=i, data=data, threshold=threshold)\n",
    "        if not print_counter % print_factor:\n",
    "            print(\"Iteration {:d} --- Updated {:d} times\".format(i, update_times))\n",
    "            print_counter = 0\n",
    "        updates.append(update_times)\n",
    "        vector_w0.append(weight[0])\n",
    "        print_counter += 1\n",
    "    return updates, vector_w0"
   ]
  },
  {
   "cell_type": "markdown",
   "metadata": {},
   "source": [
    "### Question 16, 17"
   ]
  },
  {
   "cell_type": "code",
   "execution_count": 5,
   "metadata": {},
   "outputs": [
    {
     "name": "stdout",
     "output_type": "stream",
     "text": [
      "Iteration 0 --- Updated 11 times\n",
      "Iteration 100 --- Updated 7 times\n",
      "Iteration 200 --- Updated 11 times\n",
      "Iteration 300 --- Updated 10 times\n",
      "Iteration 400 --- Updated 12 times\n",
      "Iteration 500 --- Updated 12 times\n",
      "Iteration 600 --- Updated 7 times\n",
      "Iteration 700 --- Updated 12 times\n",
      "Iteration 800 --- Updated 11 times\n",
      "Iteration 900 --- Updated 11 times\n"
     ]
    }
   ],
   "source": [
    "# Question 16, 17: Iterate over PLA for 1000 times, each time print out random result.\n",
    "q16_updates, q16_w0 = pla_driver()"
   ]
  },
  {
   "cell_type": "code",
   "execution_count": 6,
   "metadata": {
    "scrolled": true
   },
   "outputs": [
    {
     "data": {
      "image/png": "[encoded data removed]",
      "text/plain": [
       "<Figure size 432x288 with 1 Axes>"
      ]
     },
     "metadata": {},
     "output_type": "display_data"
    },
    {
     "name": "stdout",
     "output_type": "stream",
     "text": [
      "==== Answer to Question 16 ====\n",
      "\n",
      "Median update time:  11.0\n",
      "Median w_0:  -7.0\n",
      "\n",
      "===============================\n",
      "\n"
     ]
    }
   ],
   "source": [
    "# Plot the distrubtion of Question 16-17, the mean and median\n",
    "plt.hist(q16_updates, bins=10)\n",
    "plt.title(\"Update Time Distribution for default PLA\")\n",
    "plt.show()\n",
    "print(\"==== Answer to Question 16 ====\\n\")\n",
    "print(\"Median update time: \", np.median(q16_updates))\n",
    "print(\"Median w_0: \", np.median(q16_w0))\n",
    "print(\"\\n===============================\\n\")"
   ]
  },
  {
   "cell_type": "markdown",
   "metadata": {},
   "source": [
    "### Question 18"
   ]
  },
  {
   "cell_type": "code",
   "execution_count": 24,
   "metadata": {},
   "outputs": [
    {
     "name": "stdout",
     "output_type": "stream",
     "text": [
      "Iteration 0 --- Updated 14 times\n",
      "Iteration 100 --- Updated 12 times\n",
      "Iteration 200 --- Updated 15 times\n",
      "Iteration 300 --- Updated 20 times\n",
      "Iteration 400 --- Updated 16 times\n",
      "Iteration 500 --- Updated 4 times\n",
      "Iteration 600 --- Updated 14 times\n",
      "Iteration 700 --- Updated 16 times\n",
      "Iteration 800 --- Updated 14 times\n",
      "Iteration 900 --- Updated 17 times\n"
     ]
    }
   ],
   "source": [
    "# Question 18.\n",
    "q18_updates, q18_w0 = pla_driver(threshold = 10)"
   ]
  },
  {
   "cell_type": "code",
   "execution_count": 25,
   "metadata": {
    "scrolled": true
   },
   "outputs": [
    {
     "data": {
      "image/png": "[encoded data removed]",
      "text/plain": [
       "<Figure size 432x288 with 1 Axes>"
      ]
     },
     "metadata": {},
     "output_type": "display_data"
    },
    {
     "name": "stdout",
     "output_type": "stream",
     "text": [
      "==== Answer to Question 18 ====\n",
      "\n",
      "Median update time after threshold = 10:  15.0\n",
      "Average update time after threshold = 10:  14.391\n",
      "\n",
      "===============================\n",
      "\n"
     ]
    }
   ],
   "source": [
    "plt.hist(q18_updates, bins=10)\n",
    "plt.title(\"Update Time Distribution for PLA with w0 of 10\")\n",
    "plt.show()\n",
    "\n",
    "print(\"==== Answer to Question 18 ====\\n\")\n",
    "print(\"Median update time after threshold = 10: \", np.median(q18_updates))\n",
    "print(\"Average update time after threshold = 10: \", np.mean(q18_updates))\n",
    "print(\"\\n===============================\\n\")"
   ]
  },
  {
   "cell_type": "markdown",
   "metadata": {},
   "source": [
    "### Question 19"
   ]
  },
  {
   "cell_type": "code",
   "execution_count": 22,
   "metadata": {},
   "outputs": [
    {
     "name": "stdout",
     "output_type": "stream",
     "text": [
      "Iteration 0 --- Updated 16 times\n",
      "Iteration 100 --- Updated 18 times\n",
      "Iteration 200 --- Updated 17 times\n",
      "Iteration 300 --- Updated 18 times\n",
      "Iteration 400 --- Updated 19 times\n",
      "Iteration 500 --- Updated 14 times\n",
      "Iteration 600 --- Updated 18 times\n",
      "Iteration 700 --- Updated 18 times\n",
      "Iteration 800 --- Updated 8 times\n",
      "Iteration 900 --- Updated 16 times\n"
     ]
    }
   ],
   "source": [
    "q19_updates, q19_w0 = pla_driver(threshold=0)"
   ]
  },
  {
   "cell_type": "code",
   "execution_count": 23,
   "metadata": {
    "scrolled": true
   },
   "outputs": [
    {
     "data": {
      "image/png": "[encoded data removed]",
      "text/plain": [
       "<Figure size 432x288 with 1 Axes>"
      ]
     },
     "metadata": {},
     "output_type": "display_data"
    },
    {
     "name": "stdout",
     "output_type": "stream",
     "text": [
      "==== Answer to Question 19 ====\n",
      "\n",
      "Median update time after threshold = 0:  16.0\n",
      "Average update time after threshold = 0:  15.577\n",
      "\n",
      "===============================\n",
      "\n"
     ]
    }
   ],
   "source": [
    "plt.hist(q19_updates, bins=20)\n",
    "plt.title(\"Update Time Distribution for PLA with w0 of 0\")\n",
    "plt.show()\n",
    "\n",
    "print(\"==== Answer to Question 19 ====\\n\")\n",
    "print(\"Median update time after threshold = 0: \", np.median(q19_updates))\n",
    "print(\"Average update time after threshold = 0: \", np.mean(q19_updates))\n",
    "print(\"\\n===============================\\n\")"
   ]
  },
  {
   "cell_type": "markdown",
   "metadata": {},
   "source": [
    "### Question 20"
   ]
  },
  {
   "cell_type": "code",
   "execution_count": 28,
   "metadata": {},
   "outputs": [
    {
     "name": "stdout",
     "output_type": "stream",
     "text": [
      "Iteration 0 --- Updated 16 times\n",
      "Iteration 100 --- Updated 16 times\n",
      "Iteration 200 --- Updated 16 times\n",
      "Iteration 300 --- Updated 17 times\n",
      "Iteration 400 --- Updated 16 times\n",
      "Iteration 500 --- Updated 17 times\n",
      "Iteration 600 --- Updated 18 times\n",
      "Iteration 700 --- Updated 16 times\n",
      "Iteration 800 --- Updated 16 times\n",
      "Iteration 900 --- Updated 19 times\n"
     ]
    }
   ],
   "source": [
    "# Question 20.\n",
    "q20_updates, q20_w0 = pla_driver(threshold=0.0, scale=0.25)"
   ]
  },
  {
   "cell_type": "code",
   "execution_count": 29,
   "metadata": {},
   "outputs": [
    {
     "name": "stdout",
     "output_type": "stream",
     "text": [
      "==== Answer to Question 20 ====\n",
      "\n",
      "Median update time after threshold = 0, and scaling down by 4:  16.0\n",
      "Average update time after threshold = 0:  15.754\n",
      "Basically nothing changes after scaling.\n",
      "\n",
      "===============================\n",
      "\n"
     ]
    },
    {
     "data": {
      "image/png": "[encoded data removed]",
      "text/plain": [
       "<Figure size 432x288 with 1 Axes>"
      ]
     },
     "metadata": {},
     "output_type": "display_data"
    }
   ],
   "source": [
    "print(\"==== Answer to Question 20 ====\\n\")\n",
    "print(\"Median update time after threshold = 0, and scaling down by 4: \", np.median(q20_updates))\n",
    "print(\"Average update time after threshold = 0: \", np.mean(q20_updates))\n",
    "print(\"Basically nothing changes after scaling.\")\n",
    "print(\"\\n===============================\\n\")\n",
    "\n",
    "plt.hist(q20_updates, bins=15)\n",
    "plt.title(\"Update Time Distribution for PLA with w0 of 0, scale of 0.25\")\n",
    "plt.show()"
   ]
  },
  {
   "cell_type": "code",
   "execution_count": null,
   "metadata": {},
   "outputs": [],
   "source": []
  }
 ],
 "metadata": {
  "kernelspec": {
   "display_name": "Python 3",
   "language": "python",
   "name": "python3"
  },
  "language_info": {
   "codemirror_mode": {
    "name": "ipython",
    "version": 3
   },
   "file_extension": ".py",
   "mimetype": "text/x-python",
   "name": "python",
   "nbconvert_exporter": "python",
   "pygments_lexer": "ipython3",
   "version": "3.6.9"
  }
 },
 "nbformat": 4,
 "nbformat_minor": 2
}
